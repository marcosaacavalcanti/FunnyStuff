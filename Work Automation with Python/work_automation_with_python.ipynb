{
 "cells": [
  {
   "cell_type": "markdown",
   "metadata": {
    "cell_id": "2b09950c602f415f8305c64e1d936958",
    "deepnote_cell_type": "markdown",
    "tags": []
   },
   "source": [
    "# Work Automation with Python "
   ]
  },
  {
   "cell_type": "markdown",
   "metadata": {
    "cell_id": "bac980124b2846ac86bbc69c8cc6e180",
    "deepnote_cell_type": "markdown",
    "tags": []
   },
   "source": [
    "## Whatsapp Messages"
   ]
  },
  {
   "cell_type": "code",
   "execution_count": null,
   "metadata": {
    "cell_id": "72530e9a786e4572860e8a702fa3f08c",
    "deepnote_cell_type": "code",
    "deepnote_to_be_reexecuted": false,
    "execution_millis": 24543,
    "execution_start": 1676011216270,
    "source_hash": "bc182c22"
   },
   "outputs": [],
   "source": [
    "!pip install pywhatkit\n",
    "import pywhatkit"
   ]
  },
  {
   "cell_type": "code",
   "execution_count": null,
   "metadata": {
    "cell_id": "eddbcf82dd63459286c1883e6f50f22e",
    "deepnote_cell_type": "code",
    "deepnote_to_be_reexecuted": true,
    "execution_millis": 12,
    "execution_start": 1675932882168,
    "source_hash": "e28ebb1d"
   },
   "outputs": [],
   "source": [
    "number = \"+55 21 97686-xxxx\" \n",
    "message = \"Call me when you're available!\"\n",
    "hour = 11\n",
    "minute = 45 \n",
    "pywhatkit.sendwhatmsg(number,message,hour,minute)"
   ]
  },
  {
   "cell_type": "markdown",
   "metadata": {
    "cell_id": "8cde6ec0ba1b4bfeb03a9da44d0837dc",
    "deepnote_cell_type": "markdown",
    "tags": []
   },
   "source": [
    "## YouTube Videos Download"
   ]
  },
  {
   "cell_type": "code",
   "execution_count": null,
   "metadata": {
    "cell_id": "3d2422163b2c4c32b6e7e8ca238baf92",
    "deepnote_cell_type": "code",
    "deepnote_to_be_reexecuted": false,
    "execution_millis": 2484,
    "execution_start": 1675636650006,
    "source_hash": "d90266a7"
   },
   "outputs": [],
   "source": [
    "!pip install pytube\n",
    "import pytube"
   ]
  },
  {
   "cell_type": "code",
   "execution_count": null,
   "metadata": {
    "cell_id": "7566ffa1d5e9430691d20dc6abded09b",
    "deepnote_cell_type": "code",
    "deepnote_to_be_reexecuted": false,
    "execution_millis": 13442,
    "execution_start": 1675636660037,
    "source_hash": "2012be08"
   },
   "outputs": [],
   "source": [
    "url = input(\"Enter the video link: \")\n",
    "path = \"E:\"\n",
    "pytube.YouTube(url).streams.get_highest_resolution().download(path)"
   ]
  },
  {
   "cell_type": "markdown",
   "metadata": {
    "cell_id": "cb8699091f194f429ce53c9f4c0ea83e",
    "deepnote_cell_type": "markdown",
    "tags": []
   },
   "source": [
    "## QR Code Generation"
   ]
  },
  {
   "cell_type": "code",
   "execution_count": null,
   "metadata": {
    "cell_id": "7932c8ab01ec439e82c14e3fa2328cf1",
    "deepnote_cell_type": "code",
    "deepnote_to_be_reexecuted": false,
    "execution_millis": 4599,
    "execution_start": 1675933260858,
    "source_hash": "dee8001",
    "tags": []
   },
   "outputs": [],
   "source": [
    "!pip install pyqrcode \n",
    "!pip install pypng\n",
    "import pyqrcode\n",
    "from PIL import Image"
   ]
  },
  {
   "cell_type": "code",
   "execution_count": null,
   "metadata": {
    "cell_id": "90f65f534be24c5b99d963cdfd0ef96c",
    "deepnote_cell_type": "code",
    "deepnote_to_be_reexecuted": false,
    "execution_millis": 85,
    "execution_start": 1675933602491,
    "source_hash": "9e470d8f",
    "tags": []
   },
   "outputs": [],
   "source": [
    "link = \"https://www.b3.com.br/pt_br/market-data-e-indices/servicos-de-dados/market-data/\"\n",
    "qr_code = pyqrcode.create(link)\n",
    "qr_code.png(\"QRCodeti.png\",scale = 5)\n",
    "Image.open(\"QRCode.png\")"
   ]
  },
  {
   "cell_type": "markdown",
   "metadata": {},
   "source": [
    "## Desktop Notification"
   ]
  },
  {
   "cell_type": "code",
   "execution_count": null,
   "metadata": {},
   "outputs": [],
   "source": [
    "!pip install plyer\n",
    "from plyer import notification\n",
    "import time"
   ]
  },
  {
   "cell_type": "code",
   "execution_count": null,
   "metadata": {},
   "outputs": [],
   "source": [
    "if __name__ == \"__main__\":\n",
    "    while True:\n",
    "        notification.notify(\n",
    "            title = \"ALERT!!!\",\n",
    "            message = \"Take a break! It has been an  hour!\",\n",
    "            timeout = 10\n",
    "        )\n",
    "        time.sleep(3600)"
   ]
  },
  {
   "cell_type": "markdown",
   "metadata": {
    "cell_id": "93256e6586c74cdb98fe5f6744b2ed95",
    "deepnote_cell_type": "markdown",
    "tags": []
   },
   "source": [
    "## Countdown Timer with Spoken Message"
   ]
  },
  {
   "cell_type": "code",
   "execution_count": null,
   "metadata": {
    "cell_id": "4b8c0d9cb5564fa089ff42cdd94e7868",
    "deepnote_cell_type": "code",
    "deepnote_to_be_reexecuted": false,
    "execution_millis": 1,
    "execution_start": 1675934572801,
    "source_hash": "daaed9b1",
    "tags": []
   },
   "outputs": [],
   "source": [
    "!pip install pyttsx3\n",
    "import pyttsx3\n",
    "import time"
   ]
  },
  {
   "cell_type": "code",
   "execution_count": null,
   "metadata": {
    "cell_id": "629c6048b8ab4c8baa05e2257ec8baf7",
    "deepnote_cell_type": "code",
    "deepnote_to_be_reexecuted": false,
    "execution_millis": 3,
    "execution_start": 1675934622224,
    "source_hash": "c4365f5e",
    "tags": []
   },
   "outputs": [],
   "source": [
    "def countdown(time_sec):\n",
    "    while time_sec:\n",
    "        mins,secs = divmod(time_sec,60)\n",
    "        timeformat = \"{:02d}:{:02d}\".format(mins,secs)\n",
    "        print(timeformat,end = '\\r')\n",
    "        time.sleep(1)\n",
    "        time_sec -= 1\n",
    "    \n",
    "    engine = pyttsx3.init()\n",
    "    engine.setProperty('rate', 125)\n",
    "    engine.setProperty('volume',1.0)\n",
    "    voices = engine.getProperty('voices')      \n",
    "    engine.setProperty('voice', voices[1].id)\n",
    "    engine.say(\"Stop! Time's over\")\n",
    "    \n",
    "    return engine.runAndWait()"
   ]
  },
  {
   "cell_type": "code",
   "execution_count": null,
   "metadata": {
    "cell_id": "e6e23d1a754646618c82f4d6f2828660",
    "deepnote_cell_type": "code",
    "deepnote_to_be_reexecuted": false,
    "execution_millis": 7077,
    "execution_start": 1675934624285,
    "source_hash": "cb1c255a",
    "tags": []
   },
   "outputs": [],
   "source": [
    "time_sec = int(input(\"Set your time in seconds: \\n\"))\n",
    "countdown(time_sec)"
   ]
  }
 ],
 "metadata": {
  "deepnote": {},
  "deepnote_execution_queue": [],
  "deepnote_notebook_id": "d65b6b1380c0496cb7f53c1d50dfe0eb",
  "kernelspec": {
   "display_name": "Python 3 (ipykernel)",
   "language": "python",
   "name": "python3"
  },
  "language_info": {
   "codemirror_mode": {
    "name": "ipython",
    "version": 3
   },
   "file_extension": ".py",
   "mimetype": "text/x-python",
   "name": "python",
   "nbconvert_exporter": "python",
   "pygments_lexer": "ipython3",
   "version": "3.9.7"
  }
 },
 "nbformat": 4,
 "nbformat_minor": 1
}
